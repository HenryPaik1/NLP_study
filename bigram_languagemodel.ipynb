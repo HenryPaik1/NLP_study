{
 "cells": [
  {
   "cell_type": "code",
   "execution_count": 6,
   "metadata": {},
   "outputs": [],
   "source": [
    "from nltk.corpus import brown\n",
    "corpus = brown.sents()[:100]"
   ]
  },
  {
   "cell_type": "code",
   "execution_count": 7,
   "metadata": {},
   "outputs": [
    {
     "data": {
      "text/plain": [
       "(['The',\n",
       "  'Fulton',\n",
       "  'County',\n",
       "  'Grand',\n",
       "  'Jury',\n",
       "  'said',\n",
       "  'Friday',\n",
       "  'an',\n",
       "  'investigation',\n",
       "  'of',\n",
       "  \"Atlanta's\",\n",
       "  'recent',\n",
       "  'primary',\n",
       "  'election',\n",
       "  'produced',\n",
       "  '``',\n",
       "  'no',\n",
       "  'evidence',\n",
       "  \"''\",\n",
       "  'that',\n",
       "  'any',\n",
       "  'irregularities',\n",
       "  'took',\n",
       "  'place',\n",
       "  '.'],\n",
       " 100)"
      ]
     },
     "execution_count": 7,
     "metadata": {},
     "output_type": "execute_result"
    }
   ],
   "source": [
    "corpus[0], len(corpus)"
   ]
  },
  {
   "cell_type": "code",
   "execution_count": 24,
   "metadata": {},
   "outputs": [
    {
     "name": "stdout",
     "output_type": "stream",
     "text": [
      "n_voc: 811\n"
     ]
    }
   ],
   "source": [
    "# word2idx, sent2idx\n",
    "from collections import defaultdict\n",
    "i = 0\n",
    "word2idx = defaultdict(int)\n",
    "sent2idx = []\n",
    "word_count = defaultdict(int)\n",
    "for sentence in corpus:\n",
    "    temp=[]\n",
    "    for token in sentence:\n",
    "        token = token.lower()\n",
    "        if token not in word2idx: # make word2idx\n",
    "            word2idx[token] = i # key:token, value: i\n",
    "            i += 1\n",
    "        idx = word2idx[token]\n",
    "        word_count[idx] = word_count.get(idx, 0) + 1 # wordcount\n",
    "        temp.append(word2idx[token]) # word2idx -> sent2idx\n",
    "    sent2idx.append(temp)\n",
    "print(\"n_voc:\", i)"
   ]
  },
  {
   "cell_type": "code",
   "execution_count": null,
   "metadata": {},
   "outputs": [],
   "source": [
    "word2idx\n",
    "# >> defaultdict(int,\n",
    "#             {'the': 0,\n",
    "#              'fulton': 1,\n",
    "#              'county': 2,"
   ]
  },
  {
   "cell_type": "code",
   "execution_count": 26,
   "metadata": {},
   "outputs": [
    {
     "data": {
      "text/plain": [
       "156"
      ]
     },
     "execution_count": 26,
     "metadata": {},
     "output_type": "execute_result"
    }
   ],
   "source": [
    "word_count[0]"
   ]
  },
  {
   "cell_type": "code",
   "execution_count": 16,
   "metadata": {},
   "outputs": [
    {
     "name": "stdout",
     "output_type": "stream",
     "text": [
      "[0, 4, 25, 5, 26, 27, 28, 19, 0, 29, 30, 31, 32, 33, 34, 35, 36, 9, 0, 13, 32, 15, 37, 0, 38, 39, 40, 9, 0, 29, 9, 41, 18, 42, 0, 43, 26, 33, 0, 13, 44, 45, 24]\n"
     ]
    }
   ],
   "source": [
    "print(sent2idx[1])"
   ]
  },
  {
   "cell_type": "code",
   "execution_count": 17,
   "metadata": {},
   "outputs": [],
   "source": [
    "# filter infrequent words\n",
    "KEEP_WORDS = set([\n",
    "  'king', 'man', 'queen', 'woman',\n",
    "  'italy', 'rome', 'france', 'paris',\n",
    "  'london', 'britain', 'england',\n",
    "])\n",
    "kees_words = KEEP_WORDS\n",
    "for word in kees_words:\n",
    "    idx = word2idx[word]\n",
    "    word_idx_count[idx] = float(inf)\n",
    "    \n",
    "sorted()"
   ]
  }
 ],
 "metadata": {
  "kernelspec": {
   "display_name": "py3",
   "language": "python",
   "name": "py3"
  },
  "language_info": {
   "codemirror_mode": {
    "name": "ipython",
    "version": 3
   },
   "file_extension": ".py",
   "mimetype": "text/x-python",
   "name": "python",
   "nbconvert_exporter": "python",
   "pygments_lexer": "ipython3",
   "version": "3.6.5"
  },
  "varInspector": {
   "cols": {
    "lenName": 16,
    "lenType": 16,
    "lenVar": 40
   },
   "kernels_config": {
    "python": {
     "delete_cmd_postfix": "",
     "delete_cmd_prefix": "del ",
     "library": "var_list.py",
     "varRefreshCmd": "print(var_dic_list())"
    },
    "r": {
     "delete_cmd_postfix": ") ",
     "delete_cmd_prefix": "rm(",
     "library": "var_list.r",
     "varRefreshCmd": "cat(var_dic_list()) "
    }
   },
   "types_to_exclude": [
    "module",
    "function",
    "builtin_function_or_method",
    "instance",
    "_Feature"
   ],
   "window_display": false
  }
 },
 "nbformat": 4,
 "nbformat_minor": 2
}
