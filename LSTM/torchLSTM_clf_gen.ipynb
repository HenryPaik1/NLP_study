{
 "cells": [
  {
   "cell_type": "code",
   "execution_count": 3,
   "metadata": {},
   "outputs": [],
   "source": [
    "import torch\n",
    "import torch.nn as nn\n",
    "import torch.optim as optim\n",
    "import torch.nn.functional as F"
   ]
  },
  {
   "cell_type": "markdown",
   "metadata": {},
   "source": [
    "# Tutorial dataset\n",
    "- classification"
   ]
  },
  {
   "cell_type": "code",
   "execution_count": null,
   "metadata": {},
   "outputs": [],
   "source": [
    "training_data = [\n",
    "    (\"The dog ate the apple\".split(), [\"DET\", \"NN\", \"V\", \"DET\", \"NN\"]),\n",
    "    (\"Everybody read that book\".split(), [\"NN\", \"V\", \"DET\", \"NN\"])\n",
    "]\n",
    "\n",
    "word_to_ix = {}\n",
    "for sent, tags in training_data:\n",
    "    for word in sent:\n",
    "        if word not in word_to_ix:\n",
    "            word_to_ix[word] = len(word_to_ix)\n",
    "            \n",
    "tag_to_ix = {\"DET\": 0, \"NN\": 1, \"V\": 2}"
   ]
  },
  {
   "cell_type": "markdown",
   "metadata": {},
   "source": [
    "# Mine: test dataset\n",
    "- LM"
   ]
  },
  {
   "cell_type": "code",
   "execution_count": 35,
   "metadata": {},
   "outputs": [],
   "source": [
    "txt = \"one of the other reviewers has mentioned that after watching just 1 oz episode you'll be hooked. they are right, as this is exactly what happened with me.the first thing that struck me about oz was its brutality and unflinching scenes of violence, which set in right from the word go. trust me, this is not a show for the faint hearted or timid. this show pulls no punches with regards to drugs, sex or violence. its is hardcore, in the classic use of the word.it is called oz as that is the nickname given to the oswald maximum security state penitentary. it focuses mainly on emerald city, an experimental section of the prison where all the cells have glass fronts and face inwards, so privacy is not high on the agenda. em city is home to many..aryans, muslims, gangstas, latinos, christians, italians, irish and more....so scuffles, death stares, dodgy dealings and shady agreements are never far away.i would say the main appeal of the show is due to the fact that it goes where other shows wouldn't dare. forget pretty pictures painted for mainstream audiences, forget charm, forget romance...oz doesn't mess around. the first episode i ever saw struck me as so nasty it was surreal, i couldn't say i was ready for it, but as i watched more, i developed a taste for oz, and got accustomed to the high levels of graphic violence. not just violence, but injustice (crooked guards who'll be sold out for a nickel, inmates who'll kill on order and get away with it, well mannered, middle class inmates being turned into prison bitches due to their lack of street skills or prison experience) watching oz, you may become comfortable with what is uncomfortable viewing....thats if you can get in touch with your darker side.\\n city is home to many..aryans, muslims, gangstas, latinos, christians, italians, irish and more....so scuffles, death stares, dodgy dealings and shady agreements are never far away.i would say the main appeal of the show is due to the fact that it goes where other shows wouldn't dare. forget pretty pictures painted for mainstream audiences, forget charm, forget romance...oz doesn't mess around. the first episode i ever saw struck me as so nasty it was surreal, i couldn't say i was ready for it, but as i watched more, i developed a taste for oz, and got accustomed to the high levels of graphic violence. not just violence, but injustice (crooked guards who'll be sold out for a nickel, inmates who'll kill on order and get away with it, well mannered, middle class inmates being turned into prison bitches due to their lack of street skills or prison experience) watching oz, you may become comfortable with what is uncomfortable viewing....thats if you can get in touch with your darker side.\""
   ]
  },
  {
   "cell_type": "code",
   "execution_count": 40,
   "metadata": {},
   "outputs": [],
   "source": [
    "import spacy\n",
    "nlp = spacy.load('en_core_web_sm')\n",
    "text = []\n",
    "for p in txt.split('\\n'):\n",
    "    p = [t.text for t in nlp(p) if t is not None]\n",
    "    text.append(p)"
   ]
  },
  {
   "cell_type": "code",
   "execution_count": 47,
   "metadata": {},
   "outputs": [],
   "source": [
    "vocab = {'<eos>': 0}\n",
    "for para in text:\n",
    "    for token in para:\n",
    "        if token not in vocab:\n",
    "            vocab[token] = len(vocab)\n",
    "        else:\n",
    "            continue"
   ]
  },
  {
   "cell_type": "code",
   "execution_count": 49,
   "metadata": {
    "scrolled": true
   },
   "outputs": [
    {
     "name": "stdout",
     "output_type": "stream",
     "text": [
      "# of voc 200\n"
     ]
    }
   ],
   "source": [
    "print('# of voc', len(vocab))"
   ]
  },
  {
   "cell_type": "code",
   "execution_count": 164,
   "metadata": {},
   "outputs": [],
   "source": [
    "training_data = [(sent_ids[0][0:-2], sent_ids[0][1:-1]), (sent_ids[1][0:-2], sent_ids[1][1:-1])]"
   ]
  },
  {
   "cell_type": "markdown",
   "metadata": {},
   "source": [
    "---\n",
    "# Model: Tutorial "
   ]
  },
  {
   "cell_type": "code",
   "execution_count": null,
   "metadata": {},
   "outputs": [],
   "source": [
    "class LSTMTagger(nn.Module):\n",
    "\n",
    "    def __init__(self, embedding_dim, hidden_dim, vocab_size, tagset_size):\n",
    "        super(LSTMTagger, self).__init__()\n",
    "        self.hidden_dim = hidden_dim\n",
    "\n",
    "        self.word_embeddings = nn.Embedding(vocab_size, embedding_dim)\n",
    "        self.lstm = nn.LSTM(embedding_dim, hidden_dim)\n",
    "        self.hidden2tag = nn.Linear(hidden_dim, tagset_size)\n",
    "\n",
    "    def forward(self, sentence):\n",
    "        embeds = self.word_embeddings(sentence)\n",
    "        lstm_out, _ = self.lstm(embeds.view(len(sentence), 1, -1))\n",
    "        \n",
    "        tag_space = self.hidden2tag(lstm_out.view(len(sentence), -1))\n",
    "        tag_scores = F.log_softmax(tag_space, dim=1)\n",
    "        return tag_scores"
   ]
  },
  {
   "cell_type": "markdown",
   "metadata": {},
   "source": [
    "# Model: Mine \n",
    "- preserve state information"
   ]
  },
  {
   "cell_type": "code",
   "execution_count": 327,
   "metadata": {},
   "outputs": [],
   "source": [
    "class LSTM_simple_net(nn.Module):\n",
    "    def __init__(self, emb_dim, hidn_dim, voc_size):\n",
    "        super().__init__()\n",
    "        self.hidn_dim = hidn_dim\n",
    "        self.emb_dim = emb_dim\n",
    "        self.word_embd = nn.Embedding(voc_size, self.emb_dim)\n",
    "        self.lstm = nn.LSTM(input_size=emb_dim, hidden_size=hidn_dim, num_layers=1)\n",
    "        self.final = nn.Linear(hidn_dim, voc_size)\n",
    "    \n",
    "    def init_state(self):\n",
    "        return (torch.zeros(1, 1, self.hidn_dim), torch.zeros(1, 1, self.hidn_dim))  # h_0: (num_layers * num_directions, batch, hidden_size) \n",
    "    \n",
    "    def forward(self, sentence_id, prev_state):\n",
    "        embeds = self.word_embd(sentence_id)\n",
    "        lstm_out, state = self.lstm(embeds.view(len(sentence_id), 1, -1), prev_state) #out: (seq_len, batch, num_directions * hidden_size); hidn_state:(num_layers * num_directions, batch, hidden_size)\n",
    "        \n",
    "        #final_in: (seq_len, num_directions * hidden_size)\n",
    "        finalout = self.final(lstm_out)\n",
    "        score = F.log_softmax(finalout, dim=2)\n",
    "        return score, state\n",
    "\n",
    "def init_weight(m):\n",
    "    for name, param in m.named_parameters():\n",
    "        if isinstance(m, nn.Embedding):\n",
    "            continue\n",
    "        if 'weight' in name:\n",
    "            nn.init.kaiming_normal_(param.data)\n",
    "        if 'bias' in name:\n",
    "            nn.init.constant_(param.data, 0)"
   ]
  },
  {
   "cell_type": "markdown",
   "metadata": {},
   "source": [
    "---\n",
    "# Train:Tutorial"
   ]
  },
  {
   "cell_type": "code",
   "execution_count": 144,
   "metadata": {},
   "outputs": [
    {
     "name": "stdout",
     "output_type": "stream",
     "text": [
      "LSTMTagger(\n",
      "  (word_embeddings): Embedding(9, 6)\n",
      "  (lstm): LSTM(6, 6)\n",
      "  (hidden2tag): Linear(in_features=6, out_features=3, bias=True)\n",
      ")\n"
     ]
    }
   ],
   "source": [
    "EMBEDDING_DIM = 6\n",
    "HIDDEN_DIM = 6\n",
    "\n",
    "# model = LSTM_simple_net(emb_dim=EMBEDDING_DIM, hidn_dim=HIDDEN_DIM, voc_size=len(vocab), tagset_size=2)\n",
    "# model.apply(init_weight)\n",
    "\n",
    "model = LSTMTagger(EMBEDDING_DIM, HIDDEN_DIM, len(word_to_ix), len(tag_to_ix))\n",
    "print(model)\n",
    "loss_function = nn.NLLLoss()\n",
    "optimizer = optim.SGD(model.parameters(), lr=0.1)\n",
    "\n",
    "for epoch in range(300):\n",
    "    for sentence, tags in training_data:\n",
    "        model.zero_grad()\n",
    "        sentence_in = prepare_sequence(sentence, word_to_ix)\n",
    "        targets = prepare_sequence(tags, tag_to_ix)\n",
    "\n",
    "        tag_scores = model(sentence_in) # (seq_len, num_tag)\n",
    "\n",
    "        loss = loss_function(tag_scores, targets)\n",
    "        loss.backward()\n",
    "        optimizer.step()\n"
   ]
  },
  {
   "cell_type": "markdown",
   "metadata": {},
   "source": [
    "- tutorial result"
   ]
  },
  {
   "cell_type": "code",
   "execution_count": 154,
   "metadata": {},
   "outputs": [
    {
     "name": "stdout",
     "output_type": "stream",
     "text": [
      "num of seq:4; num of tag:3;\n",
      "tensor([[-6.0556, -0.0260, -3.7594],\n",
      "        [-4.0851, -3.7192, -0.0419],\n",
      "        [-0.0201, -4.5532, -4.6755],\n",
      "        [-4.2887, -0.0317, -4.0475]])\n",
      "torch.return_types.max(\n",
      "values=tensor([-0.0260, -0.0419, -0.0201, -0.0317]),\n",
      "indices=tensor([1, 2, 0, 1]))\n"
     ]
    }
   ],
   "source": [
    "# See what the scores are after training\n",
    "with torch.no_grad():\n",
    "    inputs = prepare_sequence(training_data[1][0], word_to_ix)\n",
    "    tag_scores = model(inputs)\n",
    "    print('num of seq:{}; num of tag:{};'.format(tag_scores.shape[0], tag_scores.shape[1]))\n",
    "    print(tag_scores)\n",
    "    print(torch.max((tag_scores), dim=1))\n",
    "    # The sentence is \"the dog ate the apple\".  i,j corresponds to score for tag j\n",
    "    # for word i. The predicted tag is the maximum scoring tag.\n",
    "    # Here, we can see the predicted sequence below is 0 1 2 0 1\n",
    "    # since 0 is index of the maximum value of row 1,\n",
    "    # 1 is the index of maximum value of row 2, etc.\n",
    "    # Which is DET NOUN VERB DET NOUN, the correct sequence!"
   ]
  },
  {
   "cell_type": "markdown",
   "metadata": {},
   "source": [
    "# Train: Mine\n",
    "- When predicting the next word, we just need **the last word** and **the last state** for input"
   ]
  },
  {
   "cell_type": "code",
   "execution_count": 329,
   "metadata": {},
   "outputs": [
    {
     "data": {
      "text/plain": [
       "LSTM_simple_net(\n",
       "  (word_embd): Embedding(200, 50)\n",
       "  (lstm): LSTM(50, 50)\n",
       "  (final): Linear(in_features=50, out_features=200, bias=True)\n",
       ")"
      ]
     },
     "execution_count": 329,
     "metadata": {},
     "output_type": "execute_result"
    }
   ],
   "source": [
    "EMBEDDING_DIM = 50\n",
    "HIDDEN_DIM = 50\n",
    "\n",
    "model = LSTM_simple_net(emb_dim=EMBEDDING_DIM, hidn_dim=HIDDEN_DIM, voc_size=len(vocab))\n",
    "model.apply(init_weight)"
   ]
  },
  {
   "cell_type": "code",
   "execution_count": 352,
   "metadata": {},
   "outputs": [
    {
     "name": "stdout",
     "output_type": "stream",
     "text": [
      "LSTM_simple_net(\n",
      "  (word_embd): Embedding(200, 50)\n",
      "  (lstm): LSTM(50, 50)\n",
      "  (final): Linear(in_features=50, out_features=200, bias=True)\n",
      ")\n",
      "tensor(0.0098, grad_fn=<NllLossBackward>)\n"
     ]
    }
   ],
   "source": [
    "# model = LSTMTagger(EMBEDDING_DIM, HIDDEN_DIM, len(word_to_ix), len(tag_to_ix))\n",
    "print(model)\n",
    "loss_function = nn.NLLLoss()\n",
    "optimizer = optim.SGD(model.parameters(), lr=0.1)\n",
    "\n",
    "for epoch in range(10000):\n",
    "    state_h, state_c = model.init_state()\n",
    "    for sentence, trg in training_data:\n",
    "        sentence, trg = torch.tensor(sentence), torch.tensor(trg)\n",
    "        model.zero_grad()\n",
    "        out, (state_h, state_c) = model(sentence, (state_h, state_c)) # (seq_len, num_tag)\n",
    "        loss = loss_function(out.view(-1, len(vocab)), trg)\n",
    "        \n",
    "        state_h.detach_()\n",
    "        state_c.detach_()\n",
    "        \n",
    "        loss.backward()\n",
    "        optimizer.step()\n",
    "print(loss)"
   ]
  },
  {
   "cell_type": "code",
   "execution_count": 359,
   "metadata": {},
   "outputs": [
    {
     "name": "stdout",
     "output_type": "stream",
     "text": [
      "Query\n",
      " one of the other reviewers has mentioned that after watching just 1 oz episode you 'll be hooked . they are right , as this is exactly what happened with me.the first thing that struck me about oz was its brutality and unflinching scenes of violence , which set in right from the word go . trust me , this is not a show for the faint hearted or timid . this show pulls no punches with regards to drugs , sex or violence . its is hardcore , in the classic use of the word.it is called oz as that is the nickname given to the oswald maximum security state penitentary . it focuses mainly on emerald city , an experimental section of the prison where all the cells have glass fronts and face inwards , so privacy is not high on the agenda . em city is home to many .. aryans , muslims , gangstas , latinos , christians , italians , irish and more .... so scuffles , death stares , dodgy dealings and shady agreements are never far away.i would say the main appeal of the show is due to the fact that it goes where other shows would n't dare . forget pretty pictures painted for mainstream audiences , forget charm , forget romance ... oz does n't mess around . the first episode i ever saw struck me as so nasty it was surreal , i could n't say i was ready for it , but as i watched more , i developed a taste for oz , and got accustomed to the high levels of graphic violence . not just violence , but injustice ( crooked guards who 'll be sold out for a nickel , inmates who 'll kill on order and get away with it , well mannered , middle class inmates being turned into prison bitches due to their lack of street skills or prison experience ) watching oz , you may become comfortable with what is uncomfortable viewing .... thats if you can get in touch with your darker side\n",
      "\n",
      "Answer\n",
      " brutality and unflinching scenes of violence , which set in right from the word go . trust me , this is not a show for the faint hearted or timid . this show pulls no punches with regards to drugs , sex or violence . its is hardcore , in the classic use of the word.it is called oz as that is the nickname given to the oswald maximum security state penitentary . it focuses mainly on emerald city , an experimental section of the prison where all the cells have glass fronts and face inwards , so privacy is not high on the agenda . em city is home to many .. aryans , muslims , gangstas , latinos , christians , italians , irish and more .... so scuffles , death stares , dodgy dealings and shady agreements are never far away.i would say the main appeal of the show is due to the fact that it goes where other shows would n't dare . forget pretty pictures painted for mainstream audiences , forget charm , forget romance ... oz does n't mess around . the first episode i ever saw struck me as so nasty it was surreal , i could n't say i was ready for it , but as i watched more , i developed a taste for oz , and got accustomed to the high levels of graphic violence . not just violence , but injustice ( crooked guards who 'll be sold out for a nickel , inmates who 'll kill on order and get away with it , well mannered , middle class inmates being turned into prison bitches due to their lack of street skills or prison experience ) watching oz , you may become comfortable with what is uncomfortable viewing .... thats if you can get in touch with your darker side\n",
      "\n",
      "w/i force teaching\n",
      "Gen\n",
      " city city to to the , but , is exactly the the show aryans show a me , this is not a out for the faint hearted or timid . this show pulls no punches with regards to drugs , sex or violence . its is hardcore , in the classic use of the word.it is called oz as that is the nickname given to the oswald maximum security state penitentary . it focuses mainly on emerald city , an experimental section of the prison where all the cells have glass fronts and face inwards , so privacy is not high on the agenda . em city is home to many .. aryans , muslims , gangstas , latinos , christians , italians , irish and more .... so scuffles , death stares , dodgy dealings and shady agreements are never far away.i would say the main appeal of the show is due to the fact that it goes where other shows would n't dare . forget pretty pictures painted for mainstream audiences , forget charm , forget romance ... oz does n't mess around . the first episode i ever saw struck me as so nasty it was surreal , i could n't say i was ready for it , but as i watched more , i developed a taste for oz , and got accustomed to the high levels of graphic violence . not just violence , but injustice ( crooked guards who 'll be sold out for a nickel , inmates who 'll kill on order and get away with it , well mannered , middle class inmates being turned into prison bitches due to their lack of street skills or prison experience ) watching oz , you may become comfortable with what is uncomfortable viewing .... thats if you can get in touch with your darker side .\n",
      "\n",
      "w/o force teaching\n",
      "Gen\n",
      " city is home to many .. aryans , muslims , gangstas , latinos , christians , italians , irish and more .... so scuffles , death stares , dodgy dealings and shady agreements are never far away.i would say the main appeal of the show is due to the fact that it goes where other shows would n't dare . forget pretty pictures painted for mainstream audiences , forget charm , forget romance ... oz does n't mess around . the first episode i ever saw struck me as so nasty it was surreal , i could n't say i was ready for it , but as i watched more , i developed a taste for oz , and got accustomed to the high levels of graphic violence . not just violence , but injustice ( crooked guards who 'll be sold out for a nickel , inmates who 'll kill on order and get away with it , well mannered , middle class inmates being turned into prison bitches due to their lack of street skills or prison experience ) watching oz , you may become comfortable with what is uncomfortable viewing .... thats if you can get in touch with your darker side . city is home to many .. aryans , muslims , gangstas , latinos , christians , italians , irish and more .... so scuffles , death stares , dodgy dealings and shady agreements are never far away.i would say the main appeal of the show is due to the fact that it goes where other shows would n't dare . forget pretty pictures painted for mainstream audiences , forget charm , forget romance ... oz does n't mess around . the first episode i ever saw struck me as so nasty it was surreal , i could n't say i was ready for it , but as i watched more , i developed a taste for oz , and got accustomed to the high levels of graphic violence . not just violence , but injustice ( crooked guards who 'll be sold out for a nickel , inmates who 'll kill on order and get away with it , well mannered , middle class inmates being turned into prison bitches due to their lack of street skills or prison experience ) watching oz , you may become comfortable with what is uncomfortable viewing .... thats if you can get in touch with your darker side . city is home to many .. aryans , muslims , gangstas , latinos , christians , italians , irish and more .... so scuffles , death stares , dodgy dealings and shady agreements are never far away.i would say the main appeal of the show is due to the fact that it goes where other shows would n't dare . forget pretty pictures painted for mainstream audiences , forget charm , forget romance ... oz does n't mess around . the first episode i ever saw struck me as so nasty it was surreal , i could n't say i was ready for it , but as i watched more , i developed a taste for oz , and got accustomed to the high levels of graphic violence . not just violence , but injustice ( crooked guards who 'll be sold out for a nickel , inmates who 'll kill on order and get away with it , well mannered , middle class inmates being turned into prison bitches due to their lack of street skills or prison experience ) watching oz , you may become comfortable with what is uncomfortable viewing .... thats if you can get in touch with your darker side . city is home to many .. aryans , muslims , gangstas , latinos , christians , italians , irish and more .... so scuffles , death stares , dodgy dealings and shady agreements are never far away.i would say the main appeal of the show is due to the fact that it goes where other shows would n't dare . forget pretty pictures painted for mainstream audiences , forget charm , forget romance ... oz does n't mess around . the first episode i ever saw struck me as so nasty it was surreal , i could n't say i was ready for it , but as i watched more , i developed a taste for oz , and got accustomed to the high levels of graphic violence . not just violence , but injustice ( crooked guards who 'll be sold out for a nickel , inmates who 'll kill on order and get away with it , well mannered , middle class inmates being turned into prison bitches due to their lack of street skills or prison experience ) watching oz , you may become comfortable with what is uncomfortable viewing .... thats if you can get in touch with your darker side . city is home to many .. aryans , muslims , gangstas , latinos , christians , italians , irish and more .... so scuffles , death stares , dodgy dealings and shady agreements are never far away.i would say the main appeal of the show is due to the fact that it goes where other shows would n't dare . forget pretty pictures painted for mainstream audiences , forget charm , forget romance ... oz does n't mess around . the first episode i ever saw struck me as so nasty it was surreal , i could n't say i was ready for it , but as i watched more , i developed a taste for oz , and got accustomed to the high levels of graphic violence . not just violence , but injustice ( crooked guards who 'll be sold out for a nickel , inmates who 'll kill on order and get away with it , well mannered , middle class inmates being turned into prison bitches due to their lack of street\n"
     ]
    }
   ],
   "source": [
    "force_t_text = []\n",
    "nforce_t_text = []\n",
    "\n",
    "with torch.no_grad():\n",
    "    ############# force teaching #############\n",
    "\n",
    "    inputs = torch.tensor(training_data[0][0])\n",
    "    state_h, state_c = model.init_state()\n",
    "    out, (state_h, state_c) = model(inputs, (state_h, state_c))\n",
    "    print('Query\\n', ' '.join([id2voc[i.item()] for i in inputs]))\n",
    "    print()\n",
    "    print('Answer\\n', ' '.join([id2voc[i.item()] for i in torch.tensor(training_data[0][0][40:])]))\n",
    "    print()\n",
    "    \n",
    "    print('w/i force teaching')\n",
    "    for w_idx in training_data[0][0][40:]: \n",
    "        out, (state_h, state_c) = model(torch.tensor(w_idx).view(1,), (state_h, state_c))\n",
    "        out = torch.argmax(out).item()\n",
    "        force_t_text.append(out)\n",
    "    print('Gen\\n', ' '.join([id2voc[i] for i in force_t_text]))\n",
    "    \n",
    "    ############# w/o force teaching #############    \n",
    "    inputs = torch.tensor(training_data[0][0])\n",
    "    state_h, state_c = model.init_state()\n",
    "    out, (state_h, state_c) = model(inputs, (state_h, state_c))\n",
    "    out = torch.argmax(out[-1]).item()\n",
    "\n",
    "    print('\\nw/o force teaching')\n",
    "    for _ in range(1000): \n",
    "        out, (state_h, state_c) = model(torch.tensor(out).view(1,), (state_h, state_c))\n",
    "        out = torch.argmax(out).item()\n",
    "        nforce_t_text.append(out)\n",
    "    print('Gen\\n', ' '.join([id2voc[i] for i in nforce_t_text]))"
   ]
  }
 ],
 "metadata": {
  "kernelspec": {
   "display_name": "torch37",
   "language": "python",
   "name": "torch37"
  },
  "language_info": {
   "codemirror_mode": {
    "name": "ipython",
    "version": 3
   },
   "file_extension": ".py",
   "mimetype": "text/x-python",
   "name": "python",
   "nbconvert_exporter": "python",
   "pygments_lexer": "ipython3",
   "version": "3.7.7"
  }
 },
 "nbformat": 4,
 "nbformat_minor": 4
}
