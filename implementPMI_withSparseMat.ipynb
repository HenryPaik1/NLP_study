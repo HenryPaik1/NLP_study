{
 "cells": [
  {
   "cell_type": "markdown",
   "metadata": {},
   "source": [
    "# co-occurrence mat"
   ]
  },
  {
   "cell_type": "code",
   "execution_count": 3,
   "metadata": {},
   "outputs": [],
   "source": [
    "text = ['3 Styles Men Stretchy Rippe', 'New 2019 Brand Tracksuit Fashion']\n",
    "idx2voc = [word \n",
    "           for sen in text \n",
    "               for word in sen.split()]\n",
    "voc2idx = {voc:idx for idx, voc in enumerate(idx2voc)}"
   ]
  },
  {
   "cell_type": "code",
   "execution_count": 5,
   "metadata": {},
   "outputs": [
    {
     "name": "stdout",
     "output_type": "stream",
     "text": [
      "['3', 'Styles', 'Men', 'Stretchy', 'Rippe', 'New', '2019', 'Brand', 'Tracksuit', 'Fashion']\n",
      "{'3': 0, 'Styles': 1, 'Men': 2, 'Stretchy': 3, 'Rippe': 4, 'New': 5, '2019': 6, 'Brand': 7, 'Tracksuit': 8, 'Fashion': 9}\n"
     ]
    }
   ],
   "source": [
    "print(idx2voc)\n",
    "print(voc2idx)"
   ]
  },
  {
   "cell_type": "code",
   "execution_count": 38,
   "metadata": {},
   "outputs": [],
   "source": [
    "from collections import defaultdict\n",
    "from scipy.sparse import csr_matrix\n",
    "window = 1\n",
    "counter = defaultdict(int)\n",
    "\n",
    "for sent in text:\n",
    "    sent = sent.split()\n",
    "    sent2idx = [voc2idx[word] for word in sent]\n",
    "    \n",
    "    for pos, voc_id in enumerate(sent2idx):\n",
    "        # make idx2voc\n",
    "        start = max(0, pos - window)\n",
    "        end = min(len(sent), pos+window+1)\n",
    "        \n",
    "        for pos2 in range(start, end):\n",
    "            if pos2==pos:\n",
    "                continue\n",
    "            voc2_id = sent2idx[pos2]\n",
    "            counter[(voc_id, voc2_id)] += 1\n",
    "            counter[(voc2_id, voc_id)] += 1\n",
    "\n",
    "rows = []; cols = []; data=[]\n",
    "# i, j refer to vocab_id\n",
    "for (i, j), cnt in counter.items():\n",
    "    rows.append(i)\n",
    "    cols.append(j)\n",
    "    data.append(cnt)\n",
    "\n",
    "vocab_size = len(voc2idx)\n",
    "co_mat = csr_matrix((data, (rows, cols)), shape=(vocab_size, vocab_size))"
   ]
  },
  {
   "cell_type": "markdown",
   "metadata": {},
   "source": [
    "# get PMI"
   ]
  },
  {
   "cell_type": "code",
   "execution_count": 42,
   "metadata": {},
   "outputs": [
    {
     "data": {
      "text/plain": [
       "matrix([[2, 4, 4, 4, 2, 2, 4, 4, 4, 2]], dtype=int64)"
      ]
     },
     "execution_count": 42,
     "metadata": {},
     "output_type": "execute_result"
    }
   ],
   "source": [
    "row_sum = co_mat.sum(axis=1)"
   ]
  }
 ],
 "metadata": {
  "kernelspec": {
   "display_name": "py3",
   "language": "python",
   "name": "py3"
  },
  "language_info": {
   "codemirror_mode": {
    "name": "ipython",
    "version": 3
   },
   "file_extension": ".py",
   "mimetype": "text/x-python",
   "name": "python",
   "nbconvert_exporter": "python",
   "pygments_lexer": "ipython3",
   "version": "3.6.5"
  },
  "varInspector": {
   "cols": {
    "lenName": 16,
    "lenType": 16,
    "lenVar": 40
   },
   "kernels_config": {
    "python": {
     "delete_cmd_postfix": "",
     "delete_cmd_prefix": "del ",
     "library": "var_list.py",
     "varRefreshCmd": "print(var_dic_list())"
    },
    "r": {
     "delete_cmd_postfix": ") ",
     "delete_cmd_prefix": "rm(",
     "library": "var_list.r",
     "varRefreshCmd": "cat(var_dic_list()) "
    }
   },
   "types_to_exclude": [
    "module",
    "function",
    "builtin_function_or_method",
    "instance",
    "_Feature"
   ],
   "window_display": false
  }
 },
 "nbformat": 4,
 "nbformat_minor": 2
}
