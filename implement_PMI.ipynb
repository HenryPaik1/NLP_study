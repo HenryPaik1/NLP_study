{
 "cells": [
  {
   "cell_type": "code",
   "execution_count": 33,
   "metadata": {},
   "outputs": [
    {
     "name": "stdout",
     "output_type": "stream",
     "text": [
      "[[1 1 0]\n",
      " [0 1 1]\n",
      " [0 0 0]\n",
      " [1 1 0]]\n"
     ]
    }
   ],
   "source": [
    "import numpy as np\n",
    "table = np.random.randint(0, high=2, size=(4,3))\n",
    "print(table)"
   ]
  },
  {
   "cell_type": "markdown",
   "metadata": {},
   "source": [
    "# target: $\\log{\\frac{p_{i,j}}{p_{i} \\times p_{j}}}$"
   ]
  },
  {
   "cell_type": "markdown",
   "metadata": {},
   "source": [
    "### joint prob: $p_{i, j}$"
   ]
  },
  {
   "cell_type": "code",
   "execution_count": 34,
   "metadata": {},
   "outputs": [
    {
     "name": "stdout",
     "output_type": "stream",
     "text": [
      "[[0.16666667 0.16666667 0.        ]\n",
      " [0.         0.16666667 0.16666667]\n",
      " [0.         0.         0.        ]\n",
      " [0.16666667 0.16666667 0.        ]]\n"
     ]
    }
   ],
   "source": [
    "p_table = table / table.sum()\n",
    "print(p_table)"
   ]
  },
  {
   "cell_type": "markdown",
   "metadata": {},
   "source": [
    "### marginal prob: $p_{i}, p_{j}$"
   ]
  },
  {
   "cell_type": "code",
   "execution_count": 77,
   "metadata": {},
   "outputs": [
    {
     "name": "stdout",
     "output_type": "stream",
     "text": [
      "[3 3 3 3]\n",
      "[4 4 4]\n"
     ]
    }
   ],
   "source": [
    "# marginal prob for each row\n",
    "p_row = table.sum(axis=1)\n",
    "p_col = table.sum(axis=0)\n",
    "\n",
    "print(p_row)\n",
    "print(p_col)"
   ]
  },
  {
   "cell_type": "markdown",
   "metadata": {},
   "source": [
    "### $\\dfrac{1}{p_{i} \\times p_{j}}$"
   ]
  },
  {
   "cell_type": "code",
   "execution_count": 78,
   "metadata": {},
   "outputs": [
    {
     "name": "stdout",
     "output_type": "stream",
     "text": [
      "[[0.33333333 0.         0.         0.        ]\n",
      " [0.         0.33333333 0.         0.        ]\n",
      " [0.         0.         0.33333333 0.        ]\n",
      " [0.         0.         0.         0.33333333]]\n",
      "[[0.25 0.   0.  ]\n",
      " [0.   0.25 0.  ]\n",
      " [0.   0.   0.25]]\n"
     ]
    }
   ],
   "source": [
    "# inverse for product\n",
    "p_row = np.diag(np.array([0 if elem== 0 else 1/elem for elem in p_row]))\n",
    "p_col = np.diag(np.array([0 if elem== 0 else 1/elem for elem in p_col]))\n",
    "print(p_row)\n",
    "print(p_col)"
   ]
  },
  {
   "cell_type": "markdown",
   "metadata": {},
   "source": [
    "# $\\frac{p_{i,j}}{p_{i} \\times p_{j}}$"
   ]
  },
  {
   "cell_type": "code",
   "execution_count": 81,
   "metadata": {},
   "outputs": [
    {
     "name": "stdout",
     "output_type": "stream",
     "text": [
      "[[0.08333333 0.08333333 0.08333333]\n",
      " [0.08333333 0.08333333 0.08333333]\n",
      " [0.08333333 0.08333333 0.08333333]\n",
      " [0.08333333 0.08333333 0.08333333]]\n"
     ]
    }
   ],
   "source": [
    "PMI = p_row.dot(table).dot(p_col)\n",
    "print(PMI)"
   ]
  },
  {
   "cell_type": "markdown",
   "metadata": {},
   "source": [
    "# why need diag?"
   ]
  },
  {
   "cell_type": "code",
   "execution_count": 62,
   "metadata": {},
   "outputs": [
    {
     "name": "stdout",
     "output_type": "stream",
     "text": [
      "[[1 1 1]\n",
      " [1 1 1]\n",
      " [1 1 1]\n",
      " [1 1 1]]\n",
      "[3 3 3 3]\n",
      "[4 4 4]\n"
     ]
    }
   ],
   "source": [
    "table = np.array([[1,1,1],\n",
    "                  [1,1,1],\n",
    "                  [1,1,1],\n",
    "                  [1,1,1]])\n",
    "row_sum = table.sum(axis=1)\n",
    "col_sum = table.sum(axis=0)\n",
    "print(table)\n",
    "print(row_sum)\n",
    "print(col_sum)"
   ]
  },
  {
   "cell_type": "markdown",
   "metadata": {},
   "source": [
    "\n",
    "### step1.\n",
    "$\\dfrac{\\text{table}}{\\text{row_sum}} = \\text{np.dot(row_sum_reci, table)}$"
   ]
  },
  {
   "cell_type": "code",
   "execution_count": 69,
   "metadata": {},
   "outputs": [
    {
     "name": "stdout",
     "output_type": "stream",
     "text": [
      "[[0.33333333 0.         0.         0.        ]\n",
      " [0.         0.33333333 0.         0.        ]\n",
      " [0.         0.         0.33333333 0.        ]\n",
      " [0.         0.         0.         0.33333333]]\n",
      "[[0.33333333 0.33333333 0.33333333]\n",
      " [0.33333333 0.33333333 0.33333333]\n",
      " [0.33333333 0.33333333 0.33333333]\n",
      " [0.33333333 0.33333333 0.33333333]]\n"
     ]
    }
   ],
   "source": [
    "row_sum_reci = np.diag(np.array([0 if elem == 0 else 1/elem for elem in row_sum]))\n",
    "print(row_sum_reci)\n",
    "print(np.dot(row_sum_reci, table))"
   ]
  },
  {
   "cell_type": "markdown",
   "metadata": {},
   "source": [
    "### step2.\n",
    "$\\dfrac{\\text{table}}{\\text{col_sum}} = \\text{np.dot(table, col_sum_reci)}$"
   ]
  },
  {
   "cell_type": "code",
   "execution_count": 70,
   "metadata": {},
   "outputs": [
    {
     "name": "stdout",
     "output_type": "stream",
     "text": [
      "[[0.25 0.   0.  ]\n",
      " [0.   0.25 0.  ]\n",
      " [0.   0.   0.25]]\n",
      "[[0.25 0.25 0.25]\n",
      " [0.25 0.25 0.25]\n",
      " [0.25 0.25 0.25]\n",
      " [0.25 0.25 0.25]]\n"
     ]
    }
   ],
   "source": [
    "col_sum_reci = np.diag(np.array([0 if elem == 0 else 1/elem for elem in col_sum]))\n",
    "print(col_sum_reci)\n",
    "print(np.dot(table, col_sum_reci))"
   ]
  },
  {
   "cell_type": "markdown",
   "metadata": {},
   "source": [
    "### step3. \n",
    "$\\dfrac{\\text{table}}{\\text{row_sum x col_sum}} = \\text{row_sum_reci.dot(table).dot(col_sum_reci)}$"
   ]
  },
  {
   "cell_type": "code",
   "execution_count": 73,
   "metadata": {},
   "outputs": [
    {
     "data": {
      "text/plain": [
       "array([[0.08333333, 0.08333333, 0.08333333],\n",
       "       [0.08333333, 0.08333333, 0.08333333],\n",
       "       [0.08333333, 0.08333333, 0.08333333],\n",
       "       [0.08333333, 0.08333333, 0.08333333]])"
      ]
     },
     "execution_count": 73,
     "metadata": {},
     "output_type": "execute_result"
    }
   ],
   "source": [
    "row_sum_reci.dot(table).dot(col_sum_reci)"
   ]
  }
 ],
 "metadata": {
  "kernelspec": {
   "display_name": "py3",
   "language": "python",
   "name": "py3"
  },
  "language_info": {
   "codemirror_mode": {
    "name": "ipython",
    "version": 3
   },
   "file_extension": ".py",
   "mimetype": "text/x-python",
   "name": "python",
   "nbconvert_exporter": "python",
   "pygments_lexer": "ipython3",
   "version": "3.6.5"
  },
  "varInspector": {
   "cols": {
    "lenName": 16,
    "lenType": 16,
    "lenVar": 40
   },
   "kernels_config": {
    "python": {
     "delete_cmd_postfix": "",
     "delete_cmd_prefix": "del ",
     "library": "var_list.py",
     "varRefreshCmd": "print(var_dic_list())"
    },
    "r": {
     "delete_cmd_postfix": ") ",
     "delete_cmd_prefix": "rm(",
     "library": "var_list.r",
     "varRefreshCmd": "cat(var_dic_list()) "
    }
   },
   "types_to_exclude": [
    "module",
    "function",
    "builtin_function_or_method",
    "instance",
    "_Feature"
   ],
   "window_display": false
  }
 },
 "nbformat": 4,
 "nbformat_minor": 2
}
