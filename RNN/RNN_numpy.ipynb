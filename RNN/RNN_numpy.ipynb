{
 "cells": [
  {
   "cell_type": "code",
   "execution_count": null,
   "metadata": {},
   "outputs": [],
   "source": [
    "#  original code: https://github.com/revsic/numpy-rnn/blob/master/RNN_numpy.ipynb"
   ]
  },
  {
   "cell_type": "code",
   "execution_count": 2,
   "metadata": {},
   "outputs": [],
   "source": [
    "import sys\n",
    "sys.path.append('..')\n",
    "from common.optimizer import SGD\n",
    "from common.trainer import RnnlmTrainer\n",
    "from dataset import ptb\n",
    "from simple_rnnlm import SimpleRnnlm"
   ]
  },
  {
   "cell_type": "markdown",
   "metadata": {},
   "source": [
    "# many to many"
   ]
  },
  {
   "cell_type": "markdown",
   "metadata": {},
   "source": [
    "# 1. load dataset"
   ]
  },
  {
   "cell_type": "code",
   "execution_count": 17,
   "metadata": {},
   "outputs": [
    {
     "name": "stdout",
     "output_type": "stream",
     "text": [
      "shape: \n",
      " corpus (1000,) \n",
      " x (999,) \n",
      " y (999,)\n"
     ]
    }
   ],
   "source": [
    "corpus, word_to_id, id_to_word = ptb.load_data('train')\n",
    "corpus_size = 1000  # 테스트 데이터셋을 작게 설정\n",
    "corpus = corpus[:corpus_size]\n",
    "vocab_size = int(max(corpus) + 1)\n",
    "xs = corpus[:-1]  # 입력\n",
    "ts = corpus[1:]  # 출력（정답 레이블）\n",
    "\n",
    "print('shape: \\n corpus {} \\n x {} \\n y {}'.format(corpus.shape, xs.shape, ts.shape))"
   ]
  },
  {
   "cell_type": "markdown",
   "metadata": {},
   "source": [
    "# 2. params"
   ]
  },
  {
   "cell_type": "code",
   "execution_count": 19,
   "metadata": {},
   "outputs": [],
   "source": [
    "batch_size = 10\n",
    "wordvec_size = 100 # embedding dim\n",
    "hidden_size = 100  # Weight mat dim in RNN layer \n",
    "time_size = 5  # RNN layer 갯수\n",
    "lr = 0.1\n",
    "max_epoch = 100"
   ]
  },
  {
   "cell_type": "markdown",
   "metadata": {},
   "source": [
    "# 3. batch dataset example"
   ]
  },
  {
   "cell_type": "code",
   "execution_count": 45,
   "metadata": {},
   "outputs": [
    {
     "name": "stdout",
     "output_type": "stream",
     "text": [
      "batch shape: (10, 5)\n"
     ]
    }
   ],
   "source": [
    "batch_x = np.empty((batch_size, time_size), dtype='i')\n",
    "batch_t = np.empty((batch_size, time_size), dtype='i')\n",
    "print('batch shape:', batch_x.shape)"
   ]
  },
  {
   "cell_type": "code",
   "execution_count": 58,
   "metadata": {},
   "outputs": [
    {
     "name": "stdout",
     "output_type": "stream",
     "text": [
      " num of input words 999\n",
      " batch size 10 \n",
      " starting idx [0, 99, 198, 297, 396, 495, 594, 693, 792, 891]\n"
     ]
    }
   ],
   "source": [
    "data_size = len(xs)\n",
    "jump = data_size // batch_size\n",
    "offsets = [i * jump for i in range(batch_size)] # input words starting idx\n",
    "\n",
    "print(' num of input words', data_size)\n",
    "print(' batch size', batch_size, '\\n starting idx', offsets)"
   ]
  },
  {
   "cell_type": "code",
   "execution_count": 56,
   "metadata": {},
   "outputs": [],
   "source": [
    "for time in range(time_size):\n",
    "    for i, offset in enumerate(offsets):\n",
    "        batch_x[i, time] = xs[(offset + time_idx) % data_size]\n",
    "        batch_x[i, time] = ts[(offset + time_idx) % data_size]"
   ]
  },
  {
   "cell_type": "markdown",
   "metadata": {},
   "source": [
    "# 3. fit"
   ]
  },
  {
   "cell_type": "code",
   "execution_count": 67,
   "metadata": {},
   "outputs": [],
   "source": [
    "# 가중치 mat\n",
    "rn = np.random.randn\n",
    "V, D, H = vocab_size, wordvec_size, hidden_size\n",
    "\n",
    "embed_W = (rn(V, D) / 100).astype('f')\n",
    "rnn_Wx = (rn(D, H) / np.sqrt(D)).astype('f') # x x Wx\n",
    "rnn_Wh = (rn(H, H) / np.sqrt(H)).astype('f') # previous_w x Wh\n",
    "rnn_b = np.zeros(H).astype('f')\n",
    "affine_W = (rn(H, V) / np.sqrt(H)).astype('f')\n",
    "affine_b = np.zeros(V).astype('f')"
   ]
  },
  {
   "cell_type": "code",
   "execution_count": 69,
   "metadata": {},
   "outputs": [
    {
     "data": {
      "text/plain": [
       "array([[-0.82763027,  1.66433291,  0.89091549],\n",
       "       [-1.31045706,  1.7630942 , -0.34054953]])"
      ]
     },
     "execution_count": 69,
     "metadata": {},
     "output_type": "execute_result"
    }
   ],
   "source": [
    "rn(2,3)"
   ]
  },
  {
   "cell_type": "markdown",
   "metadata": {},
   "source": [
    "### 3.1. 1st epoch 1 iter"
   ]
  },
  {
   "cell_type": "code",
   "execution_count": null,
   "metadata": {},
   "outputs": [],
   "source": [
    "# loss = model.forward(batch_x, batch_t)\n",
    "\n",
    "# forward\n",
    "# for layer in self.layers:\n",
    "#     xs = layer.forward(xs)\n",
    "# loss = self.loss_layer.forward(xs, ts)\n",
    "# return loss\n",
    "\n",
    "# layers\n",
    "# self.layers = [\n",
    "#     TimeEmbedding(embed_W),\n",
    "#     TimeRNN(rnn_Wx, rnn_Wh, rnn_b, stateful=True),\n",
    "#     TimeAffine(affine_W, affine_b)\n",
    "# ]"
   ]
  },
  {
   "cell_type": "markdown",
   "metadata": {},
   "source": [
    "### 3.1.1 TimeEmbedding.forward\n"
   ]
  },
  {
   "cell_type": "code",
   "execution_count": 79,
   "metadata": {},
   "outputs": [
    {
     "name": "stdout",
     "output_type": "stream",
     "text": [
      "N 10 T 5\n",
      "V 418 D 100\n"
     ]
    }
   ],
   "source": [
    "# TimeEmbedding.forward\n",
    "# N, T = xs.shape\n",
    "# V, D = self.W.shape\n",
    "\n",
    "# out = np.empty((N, T, D), dtype='f')\n",
    "# self.layers = []\n",
    "\n",
    "# for t in range(T):\n",
    "#     layer = Embedding(self.W)\n",
    "#     out[:, t, :] = layer.forward(xs[:, t])\n",
    "#     self.layers.append(layer)\n",
    "\n",
    "# return out\n",
    "N, T = batch_x.shape\n",
    "V, D = embed_W.shape\n",
    "print('N {} T {}'.format(N, T))\n",
    "print('V {} D {}'.format(V, D))"
   ]
  }
 ],
 "metadata": {
  "kernelspec": {
   "display_name": "py3",
   "language": "python",
   "name": "py3"
  },
  "language_info": {
   "codemirror_mode": {
    "name": "ipython",
    "version": 3
   },
   "file_extension": ".py",
   "mimetype": "text/x-python",
   "name": "python",
   "nbconvert_exporter": "python",
   "pygments_lexer": "ipython3",
   "version": "3.6.5"
  },
  "varInspector": {
   "cols": {
    "lenName": 16,
    "lenType": 16,
    "lenVar": 40
   },
   "kernels_config": {
    "python": {
     "delete_cmd_postfix": "",
     "delete_cmd_prefix": "del ",
     "library": "var_list.py",
     "varRefreshCmd": "print(var_dic_list())"
    },
    "r": {
     "delete_cmd_postfix": ") ",
     "delete_cmd_prefix": "rm(",
     "library": "var_list.r",
     "varRefreshCmd": "cat(var_dic_list()) "
    }
   },
   "types_to_exclude": [
    "module",
    "function",
    "builtin_function_or_method",
    "instance",
    "_Feature"
   ],
   "window_display": false
  }
 },
 "nbformat": 4,
 "nbformat_minor": 2
}
