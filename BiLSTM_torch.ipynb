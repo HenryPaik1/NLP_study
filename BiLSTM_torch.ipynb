{
 "cells": [
  {
   "cell_type": "code",
   "execution_count": 7,
   "metadata": {},
   "outputs": [],
   "source": [
    "# referece = https://discuss.pytorch.org/t/lstm-to-bi-lstm/12967/2"
   ]
  },
  {
   "cell_type": "code",
   "execution_count": 3,
   "metadata": {},
   "outputs": [],
   "source": [
    "# referece = https://discuss.pytorch.org/t/lstm-to-bi-lstm/12967/2\n",
    "import torch.nn\n",
    "class BiLSTM:\n",
    "    def __init__(self, embed_dim, hidden_dim, voc_size, target_size):\n",
    "        super(BiLSTM, self).__init__()\n",
    "        \n",
    "        self.hidden_dim = hidden_dim\n",
    "        self.hidden_LtoR = self.init_hidden()\n",
    "        self.hidden_RtoL = self.init_hidden()\n",
    "        \n",
    "        # embedding\n",
    "        self.word_embedding = nn.Embedding(voc_size, embed_dim)\n",
    "        # LSTM: 각 LSTM cell의 weights가 다르므로 분리\n",
    "        self.lstm_LtoR = nn.LSTM(embedding_dim, hidden_dim) \n",
    "        self.lstm_RtoL = nn.LSTM(embedding_dim, hidden_dim)\n",
    "        # affine\n",
    "        self.hidden2y = nn.Linear(hidden_dim * 2, tag_size)\n",
    "\n",
    "    def init_hiddens(self):\n",
    "        self.hidden_LtoR = self.init_hidden()\n",
    "        self.hidden_RtoL = self.init_hidden()\n",
    "        \n",
    "    def init_hidden(self):\n",
    "        return (torch.zeros(1, 1, self.hidden_dim), torch.zeros(1, 1, self.hidden_dim))\n",
    "    \n",
    "    def forward(self, sentence):\n",
    "        len_ = len(sentence)\n",
    "        \n",
    "        embed_sent = self.word_embedding(sentence) \n",
    "        lstm_out_LtoR, self.hidden_LtoR = self.lstm_LtoR(embed_sent.view(len_, 1, -1), self.hidden_LtoR) # ?????????? \n",
    "        \n",
    "        reversed_embeds = reversed(self.embed_sent)\n",
    "        lstm_out_RtoL, self.hidden_RtoL = self.lstm_RtoL(reversed_embeds.view(len_, 1, -1), self.hidden_RtoR)\n",
    "        \n",
    "        hidden_full = torch.cat([lstm_out_LtoR, lstm_out_RtoL], dim=2) # ??????????\n",
    "        \n",
    "        y = self.hidden2y(hidden_full).view(len_, -1)\n",
    "        return F.log_softmax(y, dim=1)"
   ]
  },
  {
   "cell_type": "code",
   "execution_count": 6,
   "metadata": {},
   "outputs": [
    {
     "ename": "AttributeError",
     "evalue": "type object 'BiLSTM' has no attribute 'ipynb'",
     "output_type": "error",
     "traceback": [
      "\u001b[0;31m---------------------------------------------------------------------------\u001b[0m",
      "\u001b[0;31mAttributeError\u001b[0m                            Traceback (most recent call last)",
      "\u001b[0;32m<ipython-input-6-cc3028269eb2>\u001b[0m in \u001b[0;36m<module>\u001b[0;34m\u001b[0m\n\u001b[1;32m      6\u001b[0m \u001b[0membedding_dim\u001b[0m \u001b[0;34m=\u001b[0m \u001b[0;36m100\u001b[0m\u001b[0;34m\u001b[0m\u001b[0;34m\u001b[0m\u001b[0m\n\u001b[1;32m      7\u001b[0m \u001b[0mhidde_dim\u001b[0m \u001b[0;34m=\u001b[0m \u001b[0;36m200\u001b[0m\u001b[0;34m\u001b[0m\u001b[0;34m\u001b[0m\u001b[0m\n\u001b[0;32m----> 8\u001b[0;31m \u001b[0mModel\u001b[0m \u001b[0;34m=\u001b[0m \u001b[0mBiLSTM\u001b[0m\u001b[0;34m.\u001b[0m\u001b[0mipynb\u001b[0m\u001b[0;34m(\u001b[0m\u001b[0membedding_dim\u001b[0m\u001b[0;34m,\u001b[0m \u001b[0mhidde_dim\u001b[0m\u001b[0;34m,\u001b[0m \u001b[0mvoc_size\u001b[0m\u001b[0;34m,\u001b[0m \u001b[0mtag\u001b[0m\u001b[0;34m+\u001b[0m\u001b[0m_ize\u001b[0m\u001b[0;34m)\u001b[0m\u001b[0;34m\u001b[0m\u001b[0;34m\u001b[0m\u001b[0m\n\u001b[0m",
      "\u001b[0;31mAttributeError\u001b[0m: type object 'BiLSTM' has no attribute 'ipynb'"
     ]
    }
   ],
   "source": [
    "def prepare_xy(data_set):\n",
    "    ans = extract_sentence(tagged_instance)\n",
    "    targs = extract_sentencetag(data_set) \n",
    "    return word2id(sentence), tag2id(tags)\n",
    "\n",
    "embedding_dim = 100\n",
    "hidde_dim = 200\n",
    "Model = BiLSTM.ipynb(embedding_dim, hidde_dim, voc_size, tag_size)\n",
    "\n",
    "loss.fun()"
   ]
  },
  {
   "cell_type": "code",
   "execution_count": null,
   "metadata": {},
   "outputs": [],
   "source": [
    "\n"
   ]
  }
 ],
 "metadata": {
  "kernelspec": {
   "display_name": "torch_conda",
   "language": "python",
   "name": "torch_conda"
  },
  "language_info": {
   "codemirror_mode": {
    "name": "ipython",
    "version": 3
   },
   "file_extension": ".py",
   "mimetype": "text/x-python",
   "name": "python",
   "nbconvert_exporter": "python",
   "pygments_lexer": "ipython3",
   "version": "3.6.9"
  },
  "varInspector": {
   "cols": {
    "lenName": 16,
    "lenType": 16,
    "lenVar": 40
   },
   "kernels_config": {
    "python": {
     "delete_cmd_postfix": "",
     "delete_cmd_prefix": "del ",
     "library": "var_list.py",
     "varRefreshCmd": "print(var_dic_list())"
    },
    "r": {
     "delete_cmd_postfix": ") ",
     "delete_cmd_prefix": "rm(",
     "library": "var_list.r",
     "varRefreshCmd": "cat(var_dic_list()) "
    }
   },
   "types_to_exclude": [
    "module",
    "function",
    "builtin_function_or_method",
    "instance",
    "_Feature"
   ],
   "window_display": false
  }
 },
 "nbformat": 4,
 "nbformat_minor": 2
}
