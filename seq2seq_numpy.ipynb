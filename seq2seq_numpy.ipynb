{
 "cells": [
  {
   "cell_type": "markdown",
   "metadata": {},
   "source": [
    "- referrence: https://github.com/ma2rten/seq2seq"
   ]
  },
  {
   "cell_type": "markdown",
   "metadata": {},
   "source": [
    "# layers"
   ]
  },
  {
   "cell_type": "code",
   "execution_count": 38,
   "metadata": {},
   "outputs": [],
   "source": [
    "import numpy as np\n",
    "from numpy.random import rand\n",
    "\n",
    "def initialize(dim, init_range):\n",
    "    return rand(*dim) * init_range\n",
    "\n",
    "class Embedding:\n",
    "    \n",
    "    def __init__(self, vocab_size, embed_size, init_range=1):\n",
    "        self.vocab_size = vocab_size\n",
    "        self.embed_size = embed_size\n",
    "        self.W = initialize((vocab_size, embed_size), init_range=1)\n",
    "        self.params = [\n",
    "            ('W', self.W, self.dW)\n",
    "        ]\n",
    "    \n",
    "    def initSequence(self):\n",
    "        self.t =0\n",
    "        self.x = {}\n",
    "        self.dW[:] = 0 # reset\n",
    "    \n",
    "    def forward(self, x):\n",
    "        self.x[self.t] = x\n",
    "        self.t += 1\n",
    "        return self.W[x]\n",
    "    \n",
    "    def backward(self, delta):\n",
    "        self.t -= 1\n",
    "        x = self.x[self.t]\n",
    "        self.dW[x] += delta"
   ]
  },
  {
   "cell_type": "markdown",
   "metadata": {},
   "source": [
    "# LSTM\n",
    "- img link: https://sergioskar.github.io/Bitcon_prediction_LSTM/"
   ]
  },
  {
   "cell_type": "markdown",
   "metadata": {},
   "source": [
    "![](https://sergioskar.github.io/assets/img/posts/lstm_equations.jpg)"
   ]
  },
  {
   "cell_type": "code",
   "execution_count": 55,
   "metadata": {},
   "outputs": [],
   "source": [
    "def zeros(*dim):\n",
    "    return np.zeros(dim)\n",
    "\n",
    "class LSTM:\n",
    "    \n",
    "    def __init__(self, input_size, hidden_size, init_range=1, previous=None):\n",
    "        self.input_size, self.hidden_size = input_size, hidden_size\n",
    "        \n",
    "        if previous:\n",
    "            self.previous = previous\n",
    "            previous.next = self\n",
    "        \n",
    "        def init(x, y):\n",
    "            return initialize((x, y), init_range)\n",
    "    \n",
    "        h, n = hidden_size, input_size\n",
    "        \n",
    "        self.W_hi, self.W_hf, self.W_ho, self.W_hj =\\\n",
    "            init(h, h), init(h, h), init(h, h), init(h, h)\n",
    "        self.W_xi, self.W_xf, self.W_xo, self.W_xj =\\\n",
    "            init(h, n), init(h, n), init(h, n), init(h, n)\n",
    "        self.b_i, self.b_f, self.b_o, self.b_j =\\\n",
    "            zeros(h), ones(h)*3, zeros(h), zeros(h)\n",
    "        \n",
    "        # initialize gradients\n",
    "        self.dW_hi, self.dW_hf, self.W_ho, self.W_hj =\\\n",
    "            zeros(h, h), zeros(h, h), zeros(h, h), zeros(h, h)\n",
    "        self.dW_xi, self.dW_xf, self.dW_xo, self.dW_xj =\\\n",
    "            zeros(h, n), zeros(h, n), zeros(h, n), zeros(h, n)\n",
    "        self.db_i, self.db_f, self.db_o, self.db_j =\\\n",
    "            zeros(h), zeros(h), zeros(h), zeros(h)\n",
    "        \n",
    "        # name, param, grad\n",
    "        self.params = [\n",
    "            ('W_hi', self.W_hi, self.dW_hi),\n",
    "            ('W_hf', self.W_hf, self.dW_hf),\n",
    "            ('W_ho', self.W_ho, self.dW_ho),\n",
    "            ('W_hj', self.W_hj, self.dW_hj),\n",
    "            \n",
    "            ('W_xi', self.W_xi, self.dW_xi),\n",
    "            ('W_xf', self.W_xf, self.dW_xf),\n",
    "            ('W_xo', self.W_xo, self.dW_xo),\n",
    "            ('W_xj', self.W_xj, self.dW_xj),\n",
    "            \n",
    "            ('b_i', self.b_i, self.db_i),\n",
    "            ('b_f', self.b_f, self.db_f),\n",
    "            ('b_o', self.b_o, self.db_o),\n",
    "            ('b_j', self.b_j, self.db_j),\n",
    "        ]\n",
    "        self.initSequence()\n",
    "        \n",
    "    def initSequence(self):\n",
    "        self.t = 0\n",
    "        self.x = {}\n",
    "        self.h = {}\n",
    "        self.c = {}\n",
    "        self.ct = {}\n",
    "        \n",
    "        self.input_gate = {}\n",
    "        self.forget_gate = {}\n",
    "        self.output_gate = {}\n",
    "        self.cell_update = {}\n",
    "        \n",
    "        if has_attr(self, 'previous') :\n",
    "            self.h[0] = self.previous.h[self.previous.t]\n",
    "            self.c[0] = self.previous.c[self.previous.t]\n",
    "        else:\n",
    "            self.h[0] = zeros(self.hidden_size)\n",
    "            self.c[0] = zeros(self.hidden_size)\n",
    "        \n",
    "        if has_attr(self, 'next'):\n",
    "            self.dh_prev = self.next.dh_prev\n",
    "            self.dc_prev = self.next.dc_prev\n",
    "        else:\n",
    "            self.dh_prev = zeros(self.hidden_size)\n",
    "            self.dc_prev = zeros(self.hidden_size)\n",
    "        \n",
    "        for name, param, grad in self.params:\n",
    "            grad[:] = 0\n",
    "    \n",
    "    def forward(self, x_t):\n",
    "        self.t += 1\n",
    "        \n",
    "        t = self.t\n",
    "        h = self.h[t-1]\n",
    "        \n",
    "        self.forget_gate[t] = sigmoid(np.dot(self.W_hf, h) + np.dot(self.W_xf, x_t) + self.b_f)\n",
    "        self.cell_update[t] = tanh(np.dot(self.W_hj, h) + np.dot(self.W_xj, x_t) + self.b_j)\n",
    "        self.input_gate[t] = sigmoid(np.dot(self.W_hi, h) + np.dot(self.W_xi, x_t) + self.b_i)\n",
    "        self.output_gate[t] = sigmoid(np.dot(self.W_ho, h) + np.dot(self.W_xo, x_t) + self.b_o)\n",
    "        \n",
    "        self.c[t] = self.forget_gate[t] * self.c[t-1] + self.input_gate[t] * self.cell_update[t]"
   ]
  }
 ],
 "metadata": {
  "kernelspec": {
   "display_name": "py3",
   "language": "python",
   "name": "py3"
  },
  "language_info": {
   "codemirror_mode": {
    "name": "ipython",
    "version": 3
   },
   "file_extension": ".py",
   "mimetype": "text/x-python",
   "name": "python",
   "nbconvert_exporter": "python",
   "pygments_lexer": "ipython3",
   "version": "3.6.5"
  },
  "varInspector": {
   "cols": {
    "lenName": 16,
    "lenType": 16,
    "lenVar": 40
   },
   "kernels_config": {
    "python": {
     "delete_cmd_postfix": "",
     "delete_cmd_prefix": "del ",
     "library": "var_list.py",
     "varRefreshCmd": "print(var_dic_list())"
    },
    "r": {
     "delete_cmd_postfix": ") ",
     "delete_cmd_prefix": "rm(",
     "library": "var_list.r",
     "varRefreshCmd": "cat(var_dic_list()) "
    }
   },
   "types_to_exclude": [
    "module",
    "function",
    "builtin_function_or_method",
    "instance",
    "_Feature"
   ],
   "window_display": false
  }
 },
 "nbformat": 4,
 "nbformat_minor": 2
}
